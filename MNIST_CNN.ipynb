{
  "nbformat": 4,
  "nbformat_minor": 0,
  "metadata": {
    "colab": {
      "provenance": [],
      "gpuType": "T4",
      "authorship_tag": "ABX9TyOZdl9l6ggGkrrdCY//lYYK",
      "include_colab_link": true
    },
    "kernelspec": {
      "name": "python3",
      "display_name": "Python 3"
    },
    "language_info": {
      "name": "python"
    },
    "accelerator": "GPU"
  },
  "cells": [
    {
      "cell_type": "markdown",
      "metadata": {
        "id": "view-in-github",
        "colab_type": "text"
      },
      "source": [
        "<a href=\"https://colab.research.google.com/github/Responze31/CNN-for-MNIST-Dataset/blob/main/MNIST_CNN.ipynb\" target=\"_parent\"><img src=\"https://colab.research.google.com/assets/colab-badge.svg\" alt=\"Open In Colab\"/></a>"
      ]
    },
    {
      "cell_type": "code",
      "execution_count": 1,
      "metadata": {
        "id": "2K6LKOXrcA2A"
      },
      "outputs": [],
      "source": [
        "import torch\n",
        "import torch.nn as nn\n",
        "import torch.nn.functional as F\n",
        "import torchvision\n",
        "from torchvision import datasets, transforms\n",
        "from torch.utils.data import DataLoader"
      ]
    },
    {
      "cell_type": "code",
      "source": [
        "# for convinience\n",
        "transforms = transforms.Compose([\n",
        "    transforms.ToTensor(),\n",
        "    transforms.Normalize((0.1307,), (0.3081,))\n",
        "])"
      ],
      "metadata": {
        "id": "EaOgn95FcyAL"
      },
      "execution_count": 2,
      "outputs": []
    },
    {
      "cell_type": "code",
      "source": [
        "# to train data set ,a root then train to true/false download true and to tensors true\n",
        "train_data = datasets.MNIST(root='rnn_data', train=True, download=True, transform=transforms)\n",
        "test_data = datasets.MNIST(root='rnn_data', train=False, download=True, transform=transforms)\n",
        "\n",
        "# DataLoader breaks the dataset into batches of 10 images for faster training.\n",
        "train_loader = DataLoader(train_data, batch_size=128, shuffle=True)\n",
        "test_loader = DataLoader(test_data, batch_size=128, shuffle=False)"
      ],
      "metadata": {
        "colab": {
          "base_uri": "https://localhost:8080/"
        },
        "id": "mWdNrAssdNju",
        "outputId": "f7542e14-087a-4649-b33f-2899d115a35e"
      },
      "execution_count": 3,
      "outputs": [
        {
          "output_type": "stream",
          "name": "stderr",
          "text": [
            "100%|██████████| 9.91M/9.91M [00:10<00:00, 906kB/s] \n",
            "100%|██████████| 28.9k/28.9k [00:00<00:00, 135kB/s]\n",
            "100%|██████████| 1.65M/1.65M [00:01<00:00, 1.28MB/s]\n",
            "100%|██████████| 4.54k/4.54k [00:00<00:00, 5.54MB/s]\n"
          ]
        }
      ]
    },
    {
      "cell_type": "code",
      "source": [
        "class CNN(nn.Module):\n",
        "    def __init__(self):\n",
        "        super().__init__()\n",
        "        # 1) Convolution block 1\n",
        "        self.conv1 = nn.Conv2d(1, 6, kernel_size=3, stride=1)\n",
        "        self.bn1   = nn.BatchNorm2d(6)\n",
        "\n",
        "        # 2) Convolution block 2\n",
        "        self.conv2 = nn.Conv2d(6, 18, kernel_size=3, stride=1)\n",
        "        self.bn2   = nn.BatchNorm2d(18)\n",
        "\n",
        "        # 3) Fully‑connected layers\n",
        "        self.fc1 = nn.Linear(18 * 5 * 5, 100)\n",
        "        self.fc2 = nn.Linear(100, 65)\n",
        "        self.fc3 = nn.Linear(65, 10)\n",
        "\n",
        "        # 4) Dropout (25 %)\n",
        "        self.dropout = nn.Dropout(p=0.25)\n",
        "\n",
        "    def forward(self, x):\n",
        "        x = F.relu(self.bn1(self.conv1(x)))\n",
        "        x = F.max_pool2d(x, 2)           # 26×26 → 13×13\n",
        "\n",
        "        x = F.relu(self.bn2(self.conv2(x)))\n",
        "        x = F.max_pool2d(x, 2)           # 11×11 → 5×5\n",
        "\n",
        "        x = x.view(-1, 18 * 5 * 5)\n",
        "\n",
        "        x = self.dropout(F.relu(self.fc1(x)))\n",
        "        x = self.dropout(F.relu(self.fc2(x)))\n",
        "        return self.fc3(x)\n"
      ],
      "metadata": {
        "id": "KKVRjkUweTNw"
      },
      "execution_count": 4,
      "outputs": []
    },
    {
      "cell_type": "code",
      "source": [
        "# for reproductibiltiy\n",
        "torch.manual_seed(42)\n",
        "\n",
        "# defining CNN model\n",
        "model = CNN()\n",
        "# defining loss funtion\n",
        "criterion = nn.CrossEntropyLoss()\n",
        "# defininf optimizer\n",
        "optimizer = torch.optim.Adam(model.parameters(),\n",
        "                             lr=0.001,\n",
        "                             weight_decay=1e-5)\n",
        "print(model)"
      ],
      "metadata": {
        "id": "M4r38lsXiu4Y",
        "colab": {
          "base_uri": "https://localhost:8080/"
        },
        "outputId": "87bf7d91-9315-4098-beff-8a219ff388e4"
      },
      "execution_count": 5,
      "outputs": [
        {
          "output_type": "stream",
          "name": "stdout",
          "text": [
            "CNN(\n",
            "  (conv1): Conv2d(1, 6, kernel_size=(3, 3), stride=(1, 1))\n",
            "  (bn1): BatchNorm2d(6, eps=1e-05, momentum=0.1, affine=True, track_running_stats=True)\n",
            "  (conv2): Conv2d(6, 18, kernel_size=(3, 3), stride=(1, 1))\n",
            "  (bn2): BatchNorm2d(18, eps=1e-05, momentum=0.1, affine=True, track_running_stats=True)\n",
            "  (fc1): Linear(in_features=450, out_features=100, bias=True)\n",
            "  (fc2): Linear(in_features=100, out_features=65, bias=True)\n",
            "  (fc3): Linear(in_features=65, out_features=10, bias=True)\n",
            "  (dropout): Dropout(p=0.25, inplace=False)\n",
            ")\n"
          ]
        }
      ]
    },
    {
      "cell_type": "markdown",
      "source": [
        "```\n",
        "Input: 28x28 grayscale image (MNIST)\n",
        "        │\n",
        "        ▼\n",
        "Conv2D: 1 input → 6 output channels, 3x3 kernel\n",
        "    → Output size: 26x26x6\n",
        "        │\n",
        "        ▼\n",
        "MaxPool2D: 2x2 kernel\n",
        "    → Output size: 13x13x6\n",
        "        │\n",
        "        ▼\n",
        "Conv2D: 6 input → 18 output channels, 3x3 kernel\n",
        "    → Output size: 11x11x18\n",
        "        │\n",
        "        ▼\n",
        "MaxPool2D: 2x2 kernel\n",
        "    → Output size: 5x5x18 = 450 features\n",
        "        │\n",
        "        ▼\n",
        "Flatten to vector (shape: 450)\n",
        "        │\n",
        "        ▼\n",
        "Fully Connected Layer: 450 → 100\n",
        "        ▼\n",
        "Fully Connected Layer: 100 → 65\n",
        "        ▼\n",
        "Fully Connected Layer: 65 → 10\n",
        "        ▼\n",
        "Output: Logits for 10 classes (digits 0–9)\n",
        "```\n"
      ],
      "metadata": {
        "id": "9d7li8cdMcOL"
      }
    },
    {
      "cell_type": "code",
      "source": [
        "num_epochs = 10  # total number of epochs to train\n",
        "\n",
        "for epoch in range(num_epochs):\n",
        "    model.train() # training mode\n",
        "    running_loss = 0.0\n",
        "\n",
        "    # ─── TRAIN over all mini‑batches ────────────────────────────────────────────\n",
        "    for batch_idx, (images, labels) in enumerate(train_loader):\n",
        "        optimizer.zero_grad()\n",
        "        outputs = model(images)\n",
        "        loss = criterion(outputs, labels)\n",
        "        loss.backward()\n",
        "        optimizer.step()\n",
        "        running_loss += loss.item()\n",
        "\n",
        "        if (batch_idx + 1) % 500 == 0:    # print every 500 batches\n",
        "            print(f\"Epoch [{epoch+1}/{num_epochs}], \"\n",
        "                  f\"Step [{batch_idx+1}/{len(train_loader)}], \"\n",
        "                  f\"Loss: {running_loss / 500:.4f}\")\n",
        "            running_loss = 0.0\n",
        "\n",
        "    # ───Calculate TRAIN accuracy ─────────────────────────────────────────\n",
        "    correct_train = 0\n",
        "    total_train = 0\n",
        "    model.eval() # BN/Dropout in eval mode for accuracy\n",
        "    with torch.no_grad():\n",
        "        for images, labels in train_loader:\n",
        "            outputs = model(images)\n",
        "            _, preds = torch.max(outputs, 1)\n",
        "            total_train += labels.size(0)\n",
        "            correct_train += (preds == labels).sum().item()\n",
        "    train_acc = 100 * correct_train / total_train\n",
        "\n",
        "    # ─── TEST accuracy ─────────────────────────────────────────────────────────\n",
        "    correct = 0\n",
        "    total = 0\n",
        "    with torch.no_grad():\n",
        "        for images, labels in test_loader:\n",
        "            outputs = model(images)\n",
        "            _, predicted = torch.max(outputs, 1)\n",
        "            total += labels.size(0)\n",
        "            correct += (predicted == labels).sum().item()\n",
        "    test_acc = 100 * correct / total\n",
        "    # ───────────────────────────────────────────────────────────────────────────\n",
        "\n",
        "    print(f\"Epoch [{epoch+1}/{num_epochs}]  \"\n",
        "          f\"Train Accuracy: {train_acc:.2f}%   \"\n",
        "          f\"Test Accuracy: {test_acc:.2f}%\\n\")\n",
        "\n",
        "    model.train()  # switch back to training mode for next epoch\n"
      ],
      "metadata": {
        "colab": {
          "base_uri": "https://localhost:8080/"
        },
        "collapsed": true,
        "id": "V3DVBOZhPffI",
        "outputId": "7429867d-9a9b-41a3-e4c3-bb01a8a8c56b"
      },
      "execution_count": 6,
      "outputs": [
        {
          "output_type": "stream",
          "name": "stdout",
          "text": [
            "Epoch [1/10]  Train Accuracy: 97.56%   Test Accuracy: 97.53%\n",
            "\n",
            "Epoch [2/10]  Train Accuracy: 98.43%   Test Accuracy: 98.35%\n",
            "\n",
            "Epoch [3/10]  Train Accuracy: 98.86%   Test Accuracy: 98.57%\n",
            "\n",
            "Epoch [4/10]  Train Accuracy: 98.88%   Test Accuracy: 98.63%\n",
            "\n",
            "Epoch [5/10]  Train Accuracy: 98.91%   Test Accuracy: 98.61%\n",
            "\n",
            "Epoch [6/10]  Train Accuracy: 99.28%   Test Accuracy: 98.86%\n",
            "\n",
            "Epoch [7/10]  Train Accuracy: 99.33%   Test Accuracy: 98.82%\n",
            "\n",
            "Epoch [8/10]  Train Accuracy: 99.50%   Test Accuracy: 98.99%\n",
            "\n",
            "Epoch [9/10]  Train Accuracy: 99.40%   Test Accuracy: 98.83%\n",
            "\n",
            "Epoch [10/10]  Train Accuracy: 99.57%   Test Accuracy: 98.96%\n",
            "\n"
          ]
        }
      ]
    },
    {
      "cell_type": "code",
      "source": [],
      "metadata": {
        "id": "WD0P8hZFUhp4"
      },
      "execution_count": 6,
      "outputs": []
    }
  ]
}